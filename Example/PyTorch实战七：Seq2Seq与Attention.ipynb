{
 "cells": [
  {
   "cell_type": "markdown",
   "id": "aa163294",
   "metadata": {},
   "source": [
    "# 准备数据集\n",
    "\n",
    "nltk分词, jieba分词，构建词典，数字编码，形成batch"
   ]
  },
  {
   "cell_type": "markdown",
   "id": "d2ac6e06",
   "metadata": {},
   "source": [
    "## 导入包"
   ]
  },
  {
   "cell_type": "code",
   "execution_count": 6,
   "id": "1120f977",
   "metadata": {},
   "outputs": [],
   "source": [
    "import os\n",
    "import sys\n",
    "import math\n",
    "\n",
    "from collections import Counter\n",
    "import numpy as np\n",
    "import random \n",
    "\n",
    "import torch\n",
    "import torch.nn as nn\n",
    "import torch.nn.functional as F\n",
    "\n",
    "import nltk\n",
    "# 注意这里需要下载一个punkt包\n",
    "# nltk.download()\n",
    "\n",
    "import jieba"
   ]
  },
  {
   "cell_type": "markdown",
   "id": "a54650da",
   "metadata": {},
   "source": [
    "## 导入数据并分词\n",
    "\n",
    "先导入数据：\n",
    "- train.txt和dev.txt\n",
    "- 每个文件多行，每一行都是英文句子，后面跟着中文翻译，两者用'\\t'分开"
   ]
  },
  {
   "cell_type": "code",
   "execution_count": null,
   "id": "0ad50382",
   "metadata": {},
   "outputs": [],
   "source": []
  }
 ],
 "metadata": {
  "kernelspec": {
   "display_name": "sEMG",
   "language": "python",
   "name": "semg"
  },
  "language_info": {
   "codemirror_mode": {
    "name": "ipython",
    "version": 3
   },
   "file_extension": ".py",
   "mimetype": "text/x-python",
   "name": "python",
   "nbconvert_exporter": "python",
   "pygments_lexer": "ipython3",
   "version": "3.9.9"
  }
 },
 "nbformat": 4,
 "nbformat_minor": 5
}
