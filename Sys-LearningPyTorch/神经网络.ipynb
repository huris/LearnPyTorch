{
 "cells": [
  {
   "cell_type": "code",
   "execution_count": 18,
   "metadata": {
    "ExecuteTime": {
     "end_time": "2021-05-26T00:53:12.792966Z",
     "start_time": "2021-05-26T00:53:12.782918Z"
    }
   },
   "outputs": [],
   "source": [
    "%matplotlib inline"
   ]
  },
  {
   "cell_type": "markdown",
   "metadata": {},
   "source": [
    "# 神经网络\n",
    "可以使用`torch.nn`包构建神经网络。\n",
    "\n",
    "`nn`依赖于`autograd`来定义模型并对其进行微分。\n",
    "\n",
    "`nn.Module`包含层，以及返回`output`的方法`forward(input)`。"
   ]
  },
  {
   "cell_type": "markdown",
   "metadata": {},
   "source": [
    "# 卷积网\n",
    "一个简单的前馈网络，它获取输入，将其一层又一层地馈入，然后最终给出输出。\n",
    "\n",
    "神经网络的典型训练过程如下：\n",
    "1. 定义具有一些可学习参数（或权重）的神经网络。\n",
    "2. 遍历输入数据集。\n",
    "3. 通过网络处理输入。\n",
    "4. 计算损失（输出正确的距离有多远）。\n",
    "5. 将梯度传播回网络参数。\n",
    "6. 通常使用简单的更新规则来更新网络的权重：`weight = weight - learning_rate * gradient`"
   ]
  },
  {
   "cell_type": "markdown",
   "metadata": {},
   "source": [
    "# 定义网络"
   ]
  },
  {
   "cell_type": "code",
   "execution_count": 19,
   "metadata": {
    "ExecuteTime": {
     "end_time": "2021-05-26T00:53:14.592321Z",
     "start_time": "2021-05-26T00:53:14.580341Z"
    }
   },
   "outputs": [
    {
     "name": "stdout",
     "output_type": "stream",
     "text": [
      "Net(\n",
      "  (conv1): Conv2d(1, 6, kernel_size=(5, 5), stride=(1, 1))\n",
      "  (conv2): Conv2d(6, 16, kernel_size=(5, 5), stride=(1, 1))\n",
      "  (fc1): Linear(in_features=400, out_features=120, bias=True)\n",
      "  (fc2): Linear(in_features=120, out_features=84, bias=True)\n",
      "  (fc3): Linear(in_features=84, out_features=10, bias=True)\n",
      ")\n"
     ]
    }
   ],
   "source": [
    "import torch\n",
    "import torch.nn as nn\n",
    "import torch.nn.functional as F\n",
    "\n",
    "\n",
    "class Net(nn.Module):\n",
    "\n",
    "    def __init__(self):\n",
    "        super(Net, self).__init__()\n",
    "        # 1 input image channel, 6 output channels, 5x5 square convolution\n",
    "        # kernel\n",
    "        self.conv1 = nn.Conv2d(1, 6, 5)\n",
    "        self.conv2 = nn.Conv2d(6, 16, 5)\n",
    "        # an affine operation: y = Wx + b\n",
    "        self.fc1 = nn.Linear(16 * 5 * 5, 120)  # 5*5 from image dimension \n",
    "        self.fc2 = nn.Linear(120, 84)\n",
    "        self.fc3 = nn.Linear(84, 10)\n",
    "\n",
    "    def forward(self, x):\n",
    "        # Max pooling over a (2, 2) window\n",
    "        x = F.max_pool2d(F.relu(self.conv1(x)), (2, 2))\n",
    "        # If the size is a square, you can specify with a single number\n",
    "        x = F.max_pool2d(F.relu(self.conv2(x)), 2)\n",
    "        x = torch.flatten(x, 1) # flatten all dimensions except the batch dimension\n",
    "        x = F.relu(self.fc1(x))\n",
    "        x = F.relu(self.fc2(x))\n",
    "        x = self.fc3(x)\n",
    "        return x\n",
    "\n",
    "\n",
    "net = Net()\n",
    "print(net)"
   ]
  },
  {
   "cell_type": "markdown",
   "metadata": {},
   "source": [
    "只需要定义`forward`函数，就可以使用`autograd`自动定义`backward`函数（计算梯度），可以在`forward`函数中使用任何张量操作\n",
    "\n",
    "模型的可学习参数由`net.parameters()`返回"
   ]
  },
  {
   "cell_type": "code",
   "execution_count": 20,
   "metadata": {
    "ExecuteTime": {
     "end_time": "2021-05-26T00:53:15.872893Z",
     "start_time": "2021-05-26T00:53:15.867564Z"
    }
   },
   "outputs": [
    {
     "name": "stdout",
     "output_type": "stream",
     "text": [
      "10\n",
      "torch.Size([6, 1, 5, 5])\n"
     ]
    }
   ],
   "source": [
    "params = list(net.parameters())\n",
    "print(len(params))\n",
    "print(params[0].size())  # conv1's .weight"
   ]
  },
  {
   "cell_type": "markdown",
   "metadata": {},
   "source": [
    "尝试一个`32*32`随机输入。\n",
    "\n",
    "注意：该网络的预期输入大小（LeNet）为`32*32`。\n",
    "\n",
    "要在MNIST数据集上使用此网络，将图像从数据集中调整为`32*32`"
   ]
  },
  {
   "cell_type": "code",
   "execution_count": 21,
   "metadata": {
    "ExecuteTime": {
     "end_time": "2021-05-26T00:53:16.938132Z",
     "start_time": "2021-05-26T00:53:16.931684Z"
    }
   },
   "outputs": [
    {
     "name": "stdout",
     "output_type": "stream",
     "text": [
      "tensor([[ 0.1174,  0.1452,  0.1127, -0.1481, -0.0143, -0.1306, -0.0326,  0.0416,\n",
      "          0.0574, -0.0901]], grad_fn=<AddmmBackward>)\n"
     ]
    }
   ],
   "source": [
    "input = torch.randn(1, 1, 32, 32)\n",
    "out = net(input)\n",
    "print(out)"
   ]
  },
  {
   "cell_type": "markdown",
   "metadata": {},
   "source": [
    "使用随机梯度将所有参数和反向传播的梯度缓冲区归零"
   ]
  },
  {
   "cell_type": "code",
   "execution_count": 22,
   "metadata": {
    "ExecuteTime": {
     "end_time": "2021-05-26T00:53:18.681314Z",
     "start_time": "2021-05-26T00:53:18.675917Z"
    }
   },
   "outputs": [],
   "source": [
    "net.zero_grad()\n",
    "out.backward(torch.randn(1, 10))"
   ]
  },
  {
   "cell_type": "markdown",
   "metadata": {},
   "source": [
    "注意\n",
    "\n",
    "`torch.nn`仅支持小批量。整个`torch.nn`包仅支持作为微型样本而不是单个样本的输入。\n",
    "\n",
    "例如，`nn.Conv2d`采用`nSamples x nChannels x Heigt x Width`的4D张量。\n",
    "\n",
    "如果只有一个样本，只需使用`input.unsqueeze(0)`添加一个假批量尺寸。\n",
    "\n",
    "回顾一下至此见到的所有类。\n",
    "1. `torch.Tensor`一个多维数组。支持诸如`backward()`的自动微分操作。同样保持相对于张量的梯度。\n",
    "2. `nn.Module`神经网络模块。封装参数的便捷方法，并带有将其移动到GPU，导出，加载等的帮助器。\n",
    "3. `nn.Parameter`一种张量，即将其分配为`Module`的属性时，自动注册为参数。\n",
    "4. `autograd.Function`实现自动微分操作的正向和反向定义。每个`Tensor`操作都会创建至少一个`Function`节点，该节点连接到创建`Tensor`的函数，并且编码其历史记录。"
   ]
  },
  {
   "cell_type": "markdown",
   "metadata": {},
   "source": [
    "# 损失函数\n",
    "损失函数采用一对（输出，目标）输入，并计算一个值，该值估计输出与目标之间的距离。\n",
    "\n",
    "`nn`包下有几种不同的损失函数。\n",
    "\n",
    "一个简单的损失是`nn.MSELoss`，计算输入和目标之间的均方误差。"
   ]
  },
  {
   "cell_type": "code",
   "execution_count": 23,
   "metadata": {
    "ExecuteTime": {
     "end_time": "2021-05-26T00:53:20.953572Z",
     "start_time": "2021-05-26T00:53:20.946772Z"
    }
   },
   "outputs": [
    {
     "name": "stdout",
     "output_type": "stream",
     "text": [
      "tensor(0.8272, grad_fn=<MseLossBackward>)\n"
     ]
    }
   ],
   "source": [
    "output = net(input)\n",
    "target = torch.randn(10)  # a dummy target, for example\n",
    "target = target.view(1, -1)  # make it the same shape as output\n",
    "criterion = nn.MSELoss()\n",
    "\n",
    "loss = criterion(output, target)\n",
    "print(loss)"
   ]
  },
  {
   "cell_type": "markdown",
   "metadata": {},
   "source": [
    "现在，如果使用`.grad_fn`属性向后跟随`loss`，则看到一个计算图，如下所示：\n",
    "\n",
    "input -> conv2d -> relu -> maxpool2d -> conv2d -> relu -> maxpool2d\n",
    "    -> view -> linear -> relu -> linear -> relu -> linear\n",
    "    -> MSELoss\n",
    "    -> loss"
   ]
  },
  {
   "cell_type": "markdown",
   "metadata": {},
   "source": [
    "当我们调用`loss.backward()`时，整个图将被微分。\n",
    "\n",
    "损失，并且图中具有`requires_grad=True`的所有张量将随梯度累积其`.grad`张量"
   ]
  },
  {
   "cell_type": "code",
   "execution_count": 25,
   "metadata": {
    "ExecuteTime": {
     "end_time": "2021-05-26T00:57:26.952445Z",
     "start_time": "2021-05-26T00:57:26.947860Z"
    }
   },
   "outputs": [
    {
     "name": "stdout",
     "output_type": "stream",
     "text": [
      "<MseLossBackward object at 0x7fd7f743b410>\n",
      "<AddmmBackward object at 0x7fd7f743b610>\n",
      "<AccumulateGrad object at 0x7fd7f743b1d0>\n"
     ]
    }
   ],
   "source": [
    "print(loss.grad_fn)  # MSELoss\n",
    "print(loss.grad_fn.next_functions[0][0])  # Linear\n",
    "print(loss.grad_fn.next_functions[0][0].next_functions[0][0])  # ReLU"
   ]
  },
  {
   "cell_type": "markdown",
   "metadata": {},
   "source": [
    "# 反向传播\n",
    "要计算反向传播误差，只需要做`loss.backward()`。\n",
    "\n",
    "注意在做之前需要清除现有的梯度，否则梯度将累积到现有的梯度中。\n",
    "\n",
    "在计算`loss.backward()`，看一下向后前后`conv1`的偏差梯度"
   ]
  },
  {
   "cell_type": "code",
   "execution_count": 26,
   "metadata": {
    "ExecuteTime": {
     "end_time": "2021-05-26T00:59:52.430899Z",
     "start_time": "2021-05-26T00:59:52.422479Z"
    }
   },
   "outputs": [
    {
     "name": "stdout",
     "output_type": "stream",
     "text": [
      "conv1.bias.grad before backward\n",
      "tensor([0., 0., 0., 0., 0., 0.])\n",
      "conv1.bias.grad after backward\n",
      "tensor([ 0.0065, -0.0035,  0.0021, -0.0042,  0.0100, -0.0030])\n"
     ]
    }
   ],
   "source": [
    "net.zero_grad()     # zeroes the gradient buffers of all parameters\n",
    "\n",
    "print('conv1.bias.grad before backward')\n",
    "print(net.conv1.bias.grad)\n",
    "\n",
    "loss.backward()\n",
    "\n",
    "print('conv1.bias.grad after backward')\n",
    "print(net.conv1.bias.grad)"
   ]
  },
  {
   "cell_type": "markdown",
   "metadata": {},
   "source": [
    "# 更新权重\n",
    "最简单的更新规则是随机梯度下降（SGD）：\n",
    "\n",
    "`weight = weight - learning_rate * gradient`"
   ]
  },
  {
   "cell_type": "code",
   "execution_count": 27,
   "metadata": {
    "ExecuteTime": {
     "end_time": "2021-05-26T01:01:52.104522Z",
     "start_time": "2021-05-26T01:01:52.100018Z"
    }
   },
   "outputs": [],
   "source": [
    "learning_rate = 0.01\n",
    "for f in net.parameters():\n",
    "    f.data.sub_(f.grad.data * learning_rate)"
   ]
  },
  {
   "cell_type": "markdown",
   "metadata": {},
   "source": [
    "但是，在使用神经网络时，希望使用各种不同的更新规则，例如SGD，Nesterov-SGD，Adam，RMSProp等。\n",
    "\n",
    "为实现此目的，构建了一个包：`torch.optim`，可实现所有这些方法"
   ]
  },
  {
   "cell_type": "code",
   "execution_count": 28,
   "metadata": {
    "ExecuteTime": {
     "end_time": "2021-05-26T01:04:05.683778Z",
     "start_time": "2021-05-26T01:04:05.675154Z"
    }
   },
   "outputs": [],
   "source": [
    "import torch.optim as optim\n",
    "\n",
    "# create your optimizer\n",
    "optimizer = optim.SGD(net.parameters(), lr=0.01)\n",
    "\n",
    "# in your training loop:\n",
    "optimizer.zero_grad()   # zero the gradient buffers\n",
    "output = net(input)\n",
    "loss = criterion(output, target)\n",
    "loss.backward()\n",
    "optimizer.step()    # Does the update"
   ]
  },
  {
   "cell_type": "markdown",
   "metadata": {},
   "source": [
    "注意使用`optimizer.zero_grad()`将梯度缓冲区手动设置为零。\n",
    "\n",
    "这是因为反向传播部分中累积了梯度。"
   ]
  }
 ],
 "metadata": {
  "kernelspec": {
   "display_name": "Python 3",
   "language": "python",
   "name": "python3"
  },
  "language_info": {
   "codemirror_mode": {
    "name": "ipython",
    "version": 3
   },
   "file_extension": ".py",
   "mimetype": "text/x-python",
   "name": "python",
   "nbconvert_exporter": "python",
   "pygments_lexer": "ipython3",
   "version": "3.7.6"
  }
 },
 "nbformat": 4,
 "nbformat_minor": 1
}
